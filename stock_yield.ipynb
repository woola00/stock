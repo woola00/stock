{
 "cells": [
  {
   "cell_type": "code",
   "execution_count": 87,
   "id": "3f5bec6c",
   "metadata": {
    "scrolled": true
   },
   "outputs": [],
   "source": [
    "import os,sys\n",
    "import pandas as pd\n",
    "pd.set_option('display.max_columns', 20)\n",
    "pd.set_option('display.max_rows', 500)\n",
    "import numpy as np\n",
    "import FinanceDataReader as fdr\n",
    "from pykrx import stock, bond\n",
    "from datetime import datetime, timedelta\n",
    "\n",
    "def get_date(types,day):\n",
    "    if types == 'fdr':\n",
    "        return (datetime.now()-timedelta(day)).strftime('%Y-%m-%d')\n",
    "        \n",
    "    else : \n",
    "        return (datetime.now()-timedelta(day)).strftime('%Y%m%d')\n",
    "    \n",
    "krx_raw = fdr.StockListing('KRX')\n",
    "krx_raw.columns = [x.lower() for x in krx_raw.columns]\n",
    "krx = krx_raw[krx_raw.sector.notnull()]"
   ]
  },
  {
   "cell_type": "code",
   "execution_count": 88,
   "id": "390711e2",
   "metadata": {},
   "outputs": [],
   "source": [
    "datefrom = get_date('pk',365)\n",
    "now = get_date('pk',1)\n",
    "fundam = stock.get_market_fundamental(now, market='ALL')\n",
    "cap = stock.get_market_cap(now)\n",
    "fun_cap = pd.merge(cap, fundam, on='티커')\n",
    "info = pd.merge(krx,fun_cap, left_on='symbol',right_on='티커')\n",
    "col_to = {'종가':'close', '시가총액':'cap','거래량':'volume',\n",
    "           '거래대금':'amount','상장주식수' : 'shares_num'}\n",
    "info = info.rename(columns=col_to)"
   ]
  },
  {
   "cell_type": "code",
   "execution_count": null,
   "id": "89bd28b4",
   "metadata": {},
   "outputs": [],
   "source": [
    "import time\n",
    "m_fundm = pd.DataFrame()\n",
    "for code in info.symbol:\n",
    "    df = stock.get_market_fundamental(datefrom,now,code, freq=\"m\")\n",
    "    df['symbol'] = code \n",
    "    m_fundm = pd.concat([m_fundm,df])\n",
    "    time.sleep(0.1)"
   ]
  },
  {
   "cell_type": "code",
   "execution_count": 97,
   "id": "3a68a840",
   "metadata": {},
   "outputs": [],
   "source": [
    "info.to_csv('./stock_info.csv')\n",
    "m_fundm.to_csv('./monthly_fundamental.csv')"
   ]
  },
  {
   "cell_type": "code",
   "execution_count": null,
   "id": "0905efb2",
   "metadata": {},
   "outputs": [],
   "source": [
    "sector = dict(list(df.groupby('sector')))\n",
    "sec_name = list(sorted(krx.sector.unique()))\n",
    "sec_ = sector[sec_name[0]]\n",
    "sec_df = pd.DataFrame()\n",
    "for ix, row in sec_.iterrows() :\n",
    "    code, name = row['symbol'], row['name']\n",
    "    sec_value = fdr.DataReader(code,datefrom,now)\n",
    "    sec_df[name] = sec_value['Close']\n",
    "\n",
    "sec_df = sec_df.dropna(axis=1)"
   ]
  },
  {
   "cell_type": "code",
   "execution_count": null,
   "id": "a7d72c5f",
   "metadata": {},
   "outputs": [],
   "source": [
    "row_dict ={}\n",
    "for days in [5,10,20,60,120,240]:\n",
    "    start = datetime.now() - timedelta(days)\n",
    "    sec_day = sec_df[start:datetime.now()]\n",
    "    stock_yield = (sec_day / sec_day.iloc[0] -1.0)*100\n",
    "    row_dict[days] = stock_yield.iloc[-1]\n",
    "\n",
    "df_yield = pd.DataFrame(row_dict)\n",
    "print(sec_name[0])\n",
    "df_yield"
   ]
  },
  {
   "cell_type": "code",
   "execution_count": null,
   "id": "05502fad",
   "metadata": {},
   "outputs": [],
   "source": []
  }
 ],
 "metadata": {
  "kernelspec": {
   "display_name": "Python 3 (ipykernel)",
   "language": "python",
   "name": "python3"
  },
  "language_info": {
   "codemirror_mode": {
    "name": "ipython",
    "version": 3
   },
   "file_extension": ".py",
   "mimetype": "text/x-python",
   "name": "python",
   "nbconvert_exporter": "python",
   "pygments_lexer": "ipython3",
   "version": "3.9.7"
  }
 },
 "nbformat": 4,
 "nbformat_minor": 5
}
